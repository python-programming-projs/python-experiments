{
 "cells": [
  {
   "cell_type": "code",
   "execution_count": null,
   "metadata": {},
   "outputs": [],
   "source": [
    "Code Test"
   ]
  },
  {
   "cell_type": "code",
   "execution_count": 1,
   "metadata": {},
   "outputs": [
    {
     "name": "stdout",
     "output_type": "stream",
     "text": [
      "Interest Calculator:\n",
      "Principal amount ?42000\n",
      "Rate of Interest ?3.99\n",
      "Duration (no. of years) ?7\n",
      "\n",
      "Interest = 13231.95\n"
     ]
    }
   ],
   "source": [
    "print('Interest Calculator:')\n",
    "\n",
    "amount = float(input('Principal amount ?'))\n",
    "roi = float(input('Rate of Interest ?'))\n",
    "yrs = int(input('Duration (no. of years) ?'))\n",
    "\n",
    "total = (amount * pow(1 + (roi/100), yrs))\n",
    "interest = total - amount\n",
    "print('\\nInterest = %0.2f' %interest)"
   ]
  }
 ],
 "metadata": {
  "kernelspec": {
   "display_name": "Python 3",
   "language": "python",
   "name": "python3"
  },
  "language_info": {
   "codemirror_mode": {
    "name": "ipython",
    "version": 3
   },
   "file_extension": ".py",
   "mimetype": "text/x-python",
   "name": "python",
   "nbconvert_exporter": "python",
   "pygments_lexer": "ipython3",
   "version": "3.7.3"
  }
 },
 "nbformat": 4,
 "nbformat_minor": 2
}
