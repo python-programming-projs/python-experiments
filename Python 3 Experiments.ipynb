{
 "cells": [
  {
   "cell_type": "code",
   "execution_count": 12,
   "metadata": {},
   "outputs": [
    {
     "name": "stdout",
     "output_type": "stream",
     "text": [
      "[1, 2, 3, 4, 4, 5, 6, 7, 8, 9]\n"
     ]
    }
   ],
   "source": [
    "# Bubble sort\n",
    "data = [4, 7, 1, 4, 8, 9, 3, 2, 5, 6]\n",
    "\n",
    "done = 0\n",
    "while not done:\n",
    "    done = 1\n",
    "    for n in range(1, len(data)):\n",
    "        # scan left to right\n",
    "        if data[n-1] > data[n]:\n",
    "            # swap two adjacent items\n",
    "            data[n-1], data[n] = data[n], data[n-1]\n",
    "            done = 0 #continue\n",
    "\n",
    "print(data)"
   ]
  },
  {
   "cell_type": "code",
   "execution_count": null,
   "metadata": {},
   "outputs": [],
   "source": []
  }
 ],
 "metadata": {
  "kernelspec": {
   "display_name": "Python 3",
   "language": "python",
   "name": "python3"
  },
  "language_info": {
   "codemirror_mode": {
    "name": "ipython",
    "version": 3
   },
   "file_extension": ".py",
   "mimetype": "text/x-python",
   "name": "python",
   "nbconvert_exporter": "python",
   "pygments_lexer": "ipython3",
   "version": "3.7.3"
  },
  "widgets": {
   "application/vnd.jupyter.widget-state+json": {
    "state": {},
    "version_major": 2,
    "version_minor": 0
   }
  }
 },
 "nbformat": 4,
 "nbformat_minor": 2
}
